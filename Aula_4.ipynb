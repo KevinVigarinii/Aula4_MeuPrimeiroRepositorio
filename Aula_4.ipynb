{
  "nbformat": 4,
  "nbformat_minor": 0,
  "metadata": {
    "colab": {
      "name": "Aula 4",
      "provenance": [],
      "toc_visible": true,
      "authorship_tag": "ABX9TyOvN8optLwaXheSBiEsMQeK",
      "include_colab_link": true
    },
    "kernelspec": {
      "name": "python3",
      "display_name": "Python 3"
    },
    "language_info": {
      "name": "python"
    }
  },
  "cells": [
    {
      "cell_type": "markdown",
      "metadata": {
        "id": "view-in-github",
        "colab_type": "text"
      },
      "source": [
        "<a href=\"https://colab.research.google.com/github/KevinVigarinii/Aula4_MeuPrimeiroRepositorio/blob/main/Aula_4.ipynb\" target=\"_parent\"><img src=\"https://colab.research.google.com/assets/colab-badge.svg\" alt=\"Open In Colab\"/></a>"
      ]
    },
    {
      "cell_type": "markdown",
      "source": [
        "##Primeiro código em python:\n",
        "##Semelhança com o Pseudo-Código.\n",
        "\n"
      ],
      "metadata": {
        "id": "7y9Buyf6BdB6"
      }
    },
    {
      "cell_type": "code",
      "execution_count": null,
      "metadata": {
        "id": "04ubLZMTBL_Q"
      },
      "outputs": [],
      "source": [
        "\n",
        "# x=5\n",
        "# if x==5:\n",
        "#   y=0\n",
        "#   while y<4:\n",
        "#     y=y+1\n",
        "#     print('O valor de Y é:',y)\n",
        "#     print('n')\n",
        "#     print('x')\n"
      ]
    },
    {
      "cell_type": "code",
      "source": [
        ""
      ],
      "metadata": {
        "id": "lf4lWTBwCiN0"
      },
      "execution_count": null,
      "outputs": []
    },
    {
      "cell_type": "markdown",
      "source": [
        "Ctrl+/ seleciona o codigo e comenta o codigo selecionado.\n"
      ],
      "metadata": {
        "id": "KQl6qYfRF65t"
      }
    },
    {
      "cell_type": "markdown",
      "source": [
        "###Qual tipo de Variável ?"
      ],
      "metadata": {
        "id": "VPABt7ZEGtvi"
      }
    },
    {
      "cell_type": "code",
      "source": [
        "#Função que devolve tipo de variável\n",
        "type(x)\n",
        "type('x')\n",
        "\n"
      ],
      "metadata": {
        "id": "0zccwgAhGL2m"
      },
      "execution_count": null,
      "outputs": []
    },
    {
      "cell_type": "markdown",
      "source": [
        "##Voltando Para a semelhança para o Pseudo-Código.\n"
      ],
      "metadata": {
        "id": "6uya6spaHsFX"
      }
    },
    {
      "cell_type": "code",
      "source": [
        "for i in  [5,6,7,8,9]:\n",
        "  print (i)"
      ],
      "metadata": {
        "id": "y9Nb3QlpHzAO",
        "outputId": "f76ffa8e-162f-47a6-c43b-4770f4d5ad74",
        "colab": {
          "base_uri": "https://localhost:8080/"
        }
      },
      "execution_count": 14,
      "outputs": [
        {
          "output_type": "stream",
          "name": "stdout",
          "text": [
            "5\n",
            "6\n",
            "7\n",
            "8\n",
            "9\n"
          ]
        }
      ]
    },
    {
      "cell_type": "code",
      "source": [
        "for i in range (10):\n",
        "  print(i)"
      ],
      "metadata": {
        "id": "GYyKYs39IkTF",
        "outputId": "a360b579-50e4-452a-abf9-3c630408a231",
        "colab": {
          "base_uri": "https://localhost:8080/"
        }
      },
      "execution_count": 21,
      "outputs": [
        {
          "output_type": "stream",
          "name": "stdout",
          "text": [
            "0\n",
            "1\n",
            "2\n",
            "3\n",
            "4\n",
            "5\n",
            "6\n",
            "7\n",
            "8\n",
            "9\n"
          ]
        }
      ]
    },
    {
      "cell_type": "code",
      "source": [
        "for i in range(5,10):\n",
        "    print(i)"
      ],
      "metadata": {
        "id": "JVLaZKSxJCNc",
        "outputId": "f59911e3-821d-447c-932b-e7ffe81f5280",
        "colab": {
          "base_uri": "https://localhost:8080/"
        }
      },
      "execution_count": 22,
      "outputs": [
        {
          "output_type": "stream",
          "name": "stdout",
          "text": [
            "5\n",
            "6\n",
            "7\n",
            "8\n",
            "9\n"
          ]
        }
      ]
    },
    {
      "cell_type": "code",
      "source": [
        "for i in range(5,10,2):\n",
        "   print(i)"
      ],
      "metadata": {
        "id": "QbwgybpFJel6",
        "outputId": "a38c8105-f987-4ebd-f2cb-df37b495c3c4",
        "colab": {
          "base_uri": "https://localhost:8080/"
        }
      },
      "execution_count": 23,
      "outputs": [
        {
          "output_type": "stream",
          "name": "stdout",
          "text": [
            "5\n",
            "7\n",
            "9\n"
          ]
        }
      ]
    },
    {
      "cell_type": "code",
      "source": [
        "x=5\n",
        "if x==5:\n",
        "  y=0\n",
        "  while y<4:\n",
        "    y=y+1\n",
        "  print('O valor de y é:',y)\n",
        "for x in range(10):\n",
        "  print(i)"
      ],
      "metadata": {
        "id": "XxUYFQAfJ8iR"
      },
      "execution_count": null,
      "outputs": []
    },
    {
      "cell_type": "code",
      "source": [
        ""
      ],
      "metadata": {
        "id": "swFvwM0xKvhl"
      },
      "execution_count": null,
      "outputs": []
    }
  ]
}